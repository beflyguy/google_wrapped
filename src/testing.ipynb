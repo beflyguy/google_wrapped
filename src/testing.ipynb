{
 "cells": [
  {
   "cell_type": "code",
   "execution_count": 46,
   "metadata": {},
   "outputs": [
    {
     "name": "stdout",
     "output_type": "stream",
     "text": [
      "1450 N St Marys Rd\n"
     ]
    }
   ],
   "source": [
    "import pandas as pd\n",
    "from bs4 import BeautifulSoup\n",
    "import os\n",
    "import json\n",
    "\n",
    "directory_main = 'google_data/data/main'\n",
    "directory_side = 'google_data/data/side'\n",
    "\n",
    "gmail_directory = directory_main + '/MyActivity/Gmail/MyActivity.html'\n",
    "android_directory = directory_main + '/MyActivity/Android/MyActivity.html'\n",
    "location_history = directory_main + '/LocationHistory/Records.json'\n",
    "semantic_location_history = directory_main + '/LocationHistory/SemanticLocationHistory/'\n",
    "\n",
    "semantic_location_history_final = '/Users/sam_personal/Documents/Code/google_data/data/main/LocationHistory/SemanticLocationHistory/\n",
    "\n",
    "years_active = list(range(2014, 2022))\n",
    "\n",
    "semantic_location_history_filenames = []\n",
    "for year in years_active:\n",
    "    year_files = os.listdir(semantic_location_history + str(year))\n",
    "    for file in year_files:\n",
    "        semantic_location_history_filenames.append(file)\n",
    "\n",
    "\n",
    "\n",
    "file_path = semantic_location_history + semantic_location_history_filenames[0]\n",
    "\n",
    "# df = pd.read_json(os.open(file_p)\n",
    "# path = os.path.join('.')\n",
    "allfiles = os.listdir(os.path.join(semantic_location_history + str(years_active[0])))\n",
    "\n",
    "# df = pd.read_json('file:/' + str(semantic_location_history + str(years_active[0]) + '/' + semantic_location_history_filenames[0]))\n",
    "df = pd.read_json('/Users/sam_personal/Documents/Code/google_data/data/main/LocationHistory/SemanticLocationHistory/2014/2014_AUGUST.json')\n",
    " \n",
    "# Opening JSON file\n",
    "# get a list of places i've been\n",
    "my_places = []\n",
    "for file in semantic_location_history_filenames:\n",
    "    with open(semantic_location_history_final + file) as json_file:\n",
    "        data = json.load(json_file)\n",
    "        placeName = data['timelineObjects'][0]['placeVisit']['location']['name']\n",
    "with open('/Users/sam_personal/Documents/Code/google_data/data/main/LocationHistory/SemanticLocationHistory/2014/2014_AUGUST.json') as json_file:\n",
    "    data = json.load(json_file)\n",
    " \n",
    "    # Print the type of data variable\n",
    "    print(data['timelineObjects'][0]['placeVisit']['location']['name'])\n",
    "\n",
    " \n",
    "\n",
    "\n",
    "# /Users/sam_personal/Documents/Code/google_data/data/main/LocationHistory/SemanticLocationHistory/2014/2014_AUGUST.json\n"
   ]
  },
  {
   "cell_type": "code",
   "execution_count": null,
   "metadata": {},
   "outputs": [],
   "source": [
    "# with open(android_directory, 'r') as f:\n",
    "#     data = f.read()\n",
    "#     soup = BeautifulSoup(data, 'html.parser')\n",
    "#     print(soup.prettify())\n",
    "\n",
    "\n",
    "df = pd.DataFrame()\n",
    "loc_data = pd.read_json(location_history, orient = 'values')\n",
    "\n",
    "for i in range(len(loc_data['locations'])):\n",
    "    df.append(pd.read_json(loc_data[i], orient = 'values'))\n",
    "\n",
    "display(df.head(5))"
   ]
  },
  {
   "cell_type": "code",
   "execution_count": 7,
   "metadata": {},
   "outputs": [
    {
     "name": "stdout",
     "output_type": "stream",
     "text": [
      "['.DS_Store', '.gitignore', 'data', 'src']\n"
     ]
    }
   ],
   "source": [
    "import os \n",
    "entries = os.listdir('google_data/')\n",
    "print(entries)"
   ]
  }
 ],
 "metadata": {
  "interpreter": {
   "hash": "41f397b22c5d86e1b2d16485abe6018f36d00a9d1c2bb7b547b806fa5d4110f6"
  },
  "kernelspec": {
   "display_name": "Python 3.9.12 ('home')",
   "language": "python",
   "name": "python3"
  },
  "language_info": {
   "codemirror_mode": {
    "name": "ipython",
    "version": 3
   },
   "file_extension": ".py",
   "mimetype": "text/x-python",
   "name": "python",
   "nbconvert_exporter": "python",
   "pygments_lexer": "ipython3",
   "version": "3.9.12"
  },
  "orig_nbformat": 4
 },
 "nbformat": 4,
 "nbformat_minor": 2
}
